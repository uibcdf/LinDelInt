{
 "cells": [
  {
   "cell_type": "markdown",
   "id": "c49c4a6e-28f0-4931-badf-1720ca304d93",
   "metadata": {},
   "source": [
    "# 3 points in 2D with Delaunay"
   ]
  },
  {
   "cell_type": "code",
   "execution_count": 1,
   "id": "93236b80-e477-47f4-a74c-46466e0066b7",
   "metadata": {},
   "outputs": [],
   "source": [
    "import numpy as np\n",
    "import numpy.linalg as la\n",
    "import matplotlib.pyplot as plt\n",
    "from scipy.spatial import Delaunay"
   ]
  },
  {
   "cell_type": "code",
   "execution_count": 2,
   "id": "5073fc7e-cde5-40ce-bf79-752317d6ad29",
   "metadata": {},
   "outputs": [],
   "source": [
    "lbox=10\n",
    "\n",
    "n_vertices = 3\n",
    "max_module = 2.0\n",
    "\n",
    "vertices = np.random.uniform(-lbox+max_module, lbox-max_module, (n_vertices, 2))\n",
    "v_vertices = np.random.uniform(-1, 1, (n_vertices, 2))\n",
    "v_vertices = max_module*v_vertices/np.linalg.norm(np.ravel(v_vertices))"
   ]
  },
  {
   "cell_type": "code",
   "execution_count": 3,
   "id": "101c452f-0226-4983-bd25-dfa8f312b7a8",
   "metadata": {},
   "outputs": [],
   "source": [
    "vertices[0,:]=[-5,5]\n",
    "vertices[1,:]=[-5,-5]\n",
    "vertices[2,:]=[7,0]"
   ]
  },
  {
   "cell_type": "code",
   "execution_count": 4,
   "id": "d2163a60-11f9-41b8-9e6d-0cdd41cddd22",
   "metadata": {},
   "outputs": [],
   "source": [
    "n_points = 500\n",
    "points = np.random.uniform(-10, 10, (n_points, 2))\n",
    "v_points = np.zeros((n_points, 2))"
   ]
  },
  {
   "cell_type": "code",
   "execution_count": 5,
   "id": "3664c2e3-fbb1-49c2-8ce3-a11c240002c3",
   "metadata": {},
   "outputs": [
    {
     "data": {
      "image/png": "[encoded data removed]",
      "text/plain": [
       "<Figure size 600x600 with 1 Axes>"
      ]
     },
     "metadata": {},
     "output_type": "display_data"
    }
   ],
   "source": [
    "plt.rcParams[\"figure.figsize\"] = (6,6)\n",
    "\n",
    "ax=plt.gca()\n",
    "\n",
    "for ii in range(n_vertices):\n",
    "    plt.arrow(vertices[ii,0], vertices[ii,1], v_vertices[ii,0], v_vertices[ii,1],\n",
    "              head_width=0.2, head_length=0.4, fc='r', ec='r')\n",
    "\n",
    "plt.scatter(points[:,0], points[:,1], s=5, c='k')\n",
    "    \n",
    "plt.axis('scaled')\n",
    "plt.xlim(-lbox, lbox)\n",
    "plt.ylim(-lbox, lbox)\n",
    "\n",
    "plt.show()"
   ]
  },
  {
   "cell_type": "code",
   "execution_count": null,
   "id": "4c9aaa46-ad10-46fa-b945-04e0497c8201",
   "metadata": {},
   "outputs": [],
   "source": [
    "delaunay = Delaunay(vertices)"
   ]
  },
  {
   "cell_type": "code",
   "execution_count": null,
   "id": "e5fc43a6-d9ce-470a-8a46-58bea74a25fd",
   "metadata": {},
   "outputs": [],
   "source": [
    "delaunay.simplices"
   ]
  },
  {
   "cell_type": "code",
   "execution_count": null,
   "id": "a20b4034-f0d2-4789-ad51-ebcf8e8cf58d",
   "metadata": {},
   "outputs": [],
   "source": [
    "def barycentric_coords3(vertices, point):\n",
    "    T = (np.array(vertices[:-1])-vertices[-1]).T\n",
    "    v = np.dot(la.inv(T), np.array(point)-vertices[-1])\n",
    "    v.resize(len(vertices))\n",
    "    v[-1] = 1-v.sum()\n",
    "    return v"
   ]
  },
  {
   "cell_type": "code",
   "execution_count": null,
   "id": "c5db1fc6-272d-40ac-99e3-5a53a7442ce2",
   "metadata": {},
   "outputs": [],
   "source": [
    "def barycentric_coords3_delaunay(delaunay, point):\n",
    "    simplex = delaunay.find_simplex(point)\n",
    "    ndim = delaunay.transform.shape[2]\n",
    "    X = delaunay.transform[simplex,:delaunay.ndim]\n",
    "    Y = point - delaunay.transform[simplex,delaunay.ndim]\n",
    "    b = X.dot(np.transpose(Y))\n",
    "    bcoords = np.concatenate([b, [1 - b.sum()]])\n",
    "    return bcoords"
   ]
  },
  {
   "cell_type": "code",
   "execution_count": null,
   "id": "9de4898d-6c01-4ee6-a6e1-a95c2633a15c",
   "metadata": {},
   "outputs": [],
   "source": [
    "point = np.array([1,1])"
   ]
  },
  {
   "cell_type": "code",
   "execution_count": null,
   "id": "986947ab-1814-47d0-9673-b2a6b5628118",
   "metadata": {},
   "outputs": [],
   "source": [
    "delaunay.find_simplex(point)"
   ]
  },
  {
   "cell_type": "code",
   "execution_count": null,
   "id": "e779c016-9e67-4b19-bde7-70d8d04adc3f",
   "metadata": {},
   "outputs": [],
   "source": [
    "vertices"
   ]
  },
  {
   "cell_type": "code",
   "execution_count": null,
   "id": "a1ae18c3-aec4-427c-a995-c3f05e02d90b",
   "metadata": {},
   "outputs": [],
   "source": [
    "delaunay.plane_distance(point)"
   ]
  },
  {
   "cell_type": "code",
   "execution_count": null,
   "id": "0d53c81e-c2af-4603-8e05-986cc8d571c9",
   "metadata": {},
   "outputs": [],
   "source": [
    "bb = barycentric_coords3_delaunay(delaunay, point)"
   ]
  },
  {
   "cell_type": "code",
   "execution_count": null,
   "id": "73b51b8e-f0cc-4f81-a09e-8248ede6e4d9",
   "metadata": {},
   "outputs": [],
   "source": [
    "bb"
   ]
  },
  {
   "cell_type": "code",
   "execution_count": null,
   "id": "97003fa2-7676-4f5d-8112-9f4d8398bb26",
   "metadata": {},
   "outputs": [],
   "source": [
    "np.dot(bb,delaunay.points[delaunay.simplices[0]])"
   ]
  },
  {
   "cell_type": "code",
   "execution_count": null,
   "id": "71005f44-de1e-4f68-af85-2ba2b58dd501",
   "metadata": {},
   "outputs": [],
   "source": [
    "barycentric_coords3(vertices, point)"
   ]
  },
  {
   "cell_type": "code",
   "execution_count": null,
   "id": "9b98192e-1972-4bc1-877f-332979d27d62",
   "metadata": {},
   "outputs": [],
   "source": [
    "0.35*vertices[0]+0.15*vertices[1]+0.5*vertices[2]"
   ]
  },
  {
   "cell_type": "code",
   "execution_count": null,
   "id": "b0226f5f-3409-4288-bc48-16591fe78dbd",
   "metadata": {},
   "outputs": [],
   "source": [
    "delaunay.vertices"
   ]
  },
  {
   "cell_type": "code",
   "execution_count": null,
   "id": "f6770564-b6a6-45a4-bd8c-09d65f2e48ae",
   "metadata": {},
   "outputs": [],
   "source": [
    "def barycentric_coords2(vertices, point):\n",
    "    v = vertices[1]-vertices[0]\n",
    "    d = np.linalg.norm(v)\n",
    "    u = v/d\n",
    "    p = point - vertices[0]\n",
    "    f = np.dot(p, u)/d\n",
    "    return 1.0-f, f"
   ]
  },
  {
   "cell_type": "code",
   "execution_count": null,
   "id": "913fc022-20c4-41ce-bc72-9e1d337da64c",
   "metadata": {},
   "outputs": [],
   "source": [
    "all_bcoords3 = []\n",
    "\n",
    "for ii in range(n_points):\n",
    "    \n",
    "    alpha, beta, gamma = barycentric_coords3(vertices, points[ii])\n",
    "    all_bcoords3.append(np.array([alpha, beta, gamma]))\n",
    "\n",
    "    if (alpha<0):\n",
    "        alpha = 0.0\n",
    "        beta, gamma = barycentric_coords2([vertices[1], vertices[2]], points[ii])\n",
    "        if beta<0:\n",
    "            beta = 0.0\n",
    "            gamma = 1.0\n",
    "        elif beta>1:\n",
    "            beta = 1.0\n",
    "            gamma = 0.0\n",
    "    elif (beta<0):\n",
    "        beta = 0.0\n",
    "        alpha, gamma = barycentric_coords2([vertices[0], vertices[2]], points[ii])\n",
    "        if alpha<0:\n",
    "            alpha = 0.0\n",
    "            gamma = 1.0\n",
    "        elif alpha>1:\n",
    "            alpha = 1.0\n",
    "            gamma = 0.0\n",
    "    elif (gamma<0):\n",
    "        gamma = 0.0\n",
    "        alpha, beta = barycentric_coords2([vertices[0], vertices[1]], points[ii])\n",
    "        if alpha<0:\n",
    "            alpha = 0.0\n",
    "            beta = 1.0\n",
    "        elif alpha>1:\n",
    "            alpha = 1.0\n",
    "            beta = 0.0\n",
    "\n",
    "    v_points[ii] = alpha*v_vertices[0]+beta*v_vertices[1]+gamma*v_vertices[2]"
   ]
  },
  {
   "cell_type": "code",
   "execution_count": null,
   "id": "f1e6e53b-a5b4-4cc9-8872-ab2dc76f7273",
   "metadata": {},
   "outputs": [],
   "source": [
    "plt.rcParams[\"figure.figsize\"] = (6,6)\n",
    "\n",
    "ax=plt.gca()\n",
    "\n",
    "for ii in range(n_points):\n",
    "    plt.arrow(points[ii,0], points[ii,1], v_points[ii,0], v_points[ii,1],\n",
    "        head_width=0.2, head_length=0.4, fc='k', ec='k')\n",
    "    \n",
    "for ii in range(n_vertices):\n",
    "    plt.arrow(vertices[ii,0], vertices[ii,1], v_vertices[ii,0], v_vertices[ii,1],\n",
    "              head_width=0.2, head_length=0.4, fc='r', ec='r', lw=2.0)\n",
    "\n",
    "    \n",
    "plt.axis('scaled')\n",
    "plt.xlim(-lbox, lbox)\n",
    "plt.ylim(-lbox, lbox)\n",
    "\n",
    "plt.show()"
   ]
  },
  {
   "cell_type": "code",
   "execution_count": null,
   "id": "49afd620-7cdd-4577-9eeb-c4a256b37ddb",
   "metadata": {},
   "outputs": [],
   "source": []
  }
 ],
 "metadata": {
  "kernelspec": {
   "display_name": "Python 3 (ipykernel)",
   "language": "python",
   "name": "python3"
  },
  "language_info": {
   "codemirror_mode": {
    "name": "ipython",
    "version": 3
   },
   "file_extension": ".py",
   "mimetype": "text/x-python",
   "name": "python",
   "nbconvert_exporter": "python",
   "pygments_lexer": "ipython3",
   "version": "3.9.13"
  }
 },
 "nbformat": 4,
 "nbformat_minor": 5
}
