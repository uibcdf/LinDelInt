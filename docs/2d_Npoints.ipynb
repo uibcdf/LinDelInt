{
 "cells": [
  {
   "cell_type": "markdown",
   "id": "c49c4a6e-28f0-4931-badf-1720ca304d93",
   "metadata": {},
   "source": [
    "# N points in 2D"
   ]
  },
  {
   "cell_type": "code",
   "execution_count": 1,
   "id": "93236b80-e477-47f4-a74c-46466e0066b7",
   "metadata": {},
   "outputs": [],
   "source": [
    "import numpy as np\n",
    "import numpy.linalg as la\n",
    "import matplotlib.pyplot as plt\n",
    "from scipy.spatial import Delaunay"
   ]
  },
  {
   "cell_type": "code",
   "execution_count": 2,
   "id": "5073fc7e-cde5-40ce-bf79-752317d6ad29",
   "metadata": {},
   "outputs": [],
   "source": [
    "lbox=10\n",
    "\n",
    "n_vertices = 6\n",
    "max_module = 2.0\n",
    "\n",
    "vertices = np.random.uniform(-lbox+max_module, lbox-max_module, (n_vertices, 2))\n",
    "v_vertices = np.random.uniform(-1, 1, (n_vertices, 2))\n",
    "v_vertices = max_module*v_vertices/np.linalg.norm(np.ravel(v_vertices))"
   ]
  },
  {
   "cell_type": "code",
   "execution_count": 3,
   "id": "d2163a60-11f9-41b8-9e6d-0cdd41cddd22",
   "metadata": {},
   "outputs": [],
   "source": [
    "n_points = 500\n",
    "points = np.random.uniform(-10, 10, (n_points, 2))\n",
    "v_points = np.zeros((n_points, 2))"
   ]
  },
  {
   "cell_type": "code",
   "execution_count": 4,
   "id": "3664c2e3-fbb1-49c2-8ce3-a11c240002c3",
   "metadata": {},
   "outputs": [
    {
     "data": {
      "image/png": "[encoded data removed]",
      "text/plain": [
       "<Figure size 600x600 with 1 Axes>"
      ]
     },
     "metadata": {},
     "output_type": "display_data"
    }
   ],
   "source": [
    "plt.rcParams[\"figure.figsize\"] = (6,6)\n",
    "\n",
    "ax=plt.gca()\n",
    "\n",
    "for ii in range(n_vertices):\n",
    "    plt.arrow(vertices[ii,0], vertices[ii,1], v_vertices[ii,0], v_vertices[ii,1],\n",
    "              head_width=0.2, head_length=0.4, fc='r', ec='r')\n",
    "\n",
    "plt.scatter(points[:,0], points[:,1], s=5, c='k')\n",
    "    \n",
    "plt.axis('scaled')\n",
    "plt.xlim(-lbox, lbox)\n",
    "plt.ylim(-lbox, lbox)\n",
    "\n",
    "plt.show()"
   ]
  },
  {
   "cell_type": "code",
   "execution_count": null,
   "id": "e2fc83fe-542b-4293-bd5f-7f3bcd071b21",
   "metadata": {},
   "outputs": [],
   "source": [
    "delaunay = Delaunay(vertices)"
   ]
  },
  {
   "cell_type": "code",
   "execution_count": null,
   "id": "ccb9cfed-dacc-4cd3-834c-ddffb6223c1c",
   "metadata": {},
   "outputs": [],
   "source": [
    "delaunay.simplices"
   ]
  },
  {
   "cell_type": "code",
   "execution_count": null,
   "id": "5409f2d0-e813-4458-b32f-565ef64c9511",
   "metadata": {},
   "outputs": [],
   "source": [
    "delaunay.points[delaunay.simplices].mean(axis=1)"
   ]
  },
  {
   "cell_type": "code",
   "execution_count": null,
   "id": "143909d5-3f33-4a82-872c-789d27ba0b5e",
   "metadata": {},
   "outputs": [],
   "source": [
    "delaunay.points[delaunay.simplices[0]]"
   ]
  },
  {
   "cell_type": "code",
   "execution_count": null,
   "id": "addd2215-605c-4aa9-8de5-0662528f3850",
   "metadata": {},
   "outputs": [],
   "source": [
    "delaunay.ndim"
   ]
  },
  {
   "cell_type": "code",
   "execution_count": null,
   "id": "a20b4034-f0d2-4789-ad51-ebcf8e8cf58d",
   "metadata": {},
   "outputs": [],
   "source": [
    "def barycentric_coords3(vertices, point):\n",
    "    T = (np.array(vertices[:-1])-vertices[-1]).T\n",
    "    v = np.dot(la.inv(T), np.array(point)-vertices[-1])\n",
    "    v.resize(len(vertices))\n",
    "    v[-1] = 1-v.sum()\n",
    "    return v"
   ]
  },
  {
   "cell_type": "code",
   "execution_count": null,
   "id": "f6770564-b6a6-45a4-bd8c-09d65f2e48ae",
   "metadata": {},
   "outputs": [],
   "source": [
    "def barycentric_coords2(vertices, point):\n",
    "    v = vertices[1]-vertices[0]\n",
    "    d = np.linalg.norm(v)\n",
    "    u = v/d\n",
    "    p = point - vertices[0]\n",
    "    f = np.dot(p, u)/d\n",
    "    return 1.0-f, f"
   ]
  },
  {
   "cell_type": "code",
   "execution_count": null,
   "id": "913fc022-20c4-41ce-bc72-9e1d337da64c",
   "metadata": {},
   "outputs": [],
   "source": [
    "bcoords = np.zeros([n_points,3], dtype=float)\n",
    "\n",
    "for ii in range(n_points):\n",
    "    \n",
    "    simplex = delaunay.find_simplex(points[ii])\n",
    "    \n",
    "    #alpha, beta, gamma = barycentric_coords3(vertices, points[ii])\n",
    "    #all_bcoords3.append(np.array([alpha, beta, gamma]))\n",
    "\n",
    "    #if (alpha<0):\n",
    "    #    alpha = 0.0\n",
    "    #    beta, gamma = barycentric_coords2([vertices[1], vertices[2]], points[ii])\n",
    "    #    if beta<0:\n",
    "    #        beta = 0.0\n",
    "    #        gamma = 1.0\n",
    "    #    elif beta>1:\n",
    "    #        beta = 1.0\n",
    "    #       gamma = 0.0\n",
    "    #elif (beta<0):\n",
    "    #    beta = 0.0\n",
    "    #    alpha, gamma = barycentric_coords2([vertices[0], vertices[2]], points[ii])\n",
    "    #    if alpha<0:\n",
    "    #       alpha = 0.0\n",
    "    #        gamma = 1.0\n",
    "    #    elif alpha>1:\n",
    "    #       alpha = 1.0\n",
    "    #       gamma = 0.0\n",
    "    #elif (gamma<0):\n",
    "    #    gamma = 0.0\n",
    "    #    alpha, beta = barycentric_coords2([vertices[0], vertices[1]], points[ii])\n",
    "    #    if alpha<0:\n",
    "    #        alpha = 0.0\n",
    "    #       beta = 1.0\n",
    "    #   elif alpha>1:\n",
    "    #       alpha = 1.0\n",
    "    #       beta = 0.0\n",
    "\n",
    "    v_points[ii] = alpha*v_vertices[0]+beta*v_vertices[1]+gamma*v_vertices[2]"
   ]
  },
  {
   "cell_type": "code",
   "execution_count": null,
   "id": "f1e6e53b-a5b4-4cc9-8872-ab2dc76f7273",
   "metadata": {},
   "outputs": [],
   "source": [
    "plt.rcParams[\"figure.figsize\"] = (6,6)\n",
    "\n",
    "ax=plt.gca()\n",
    "\n",
    "for ii in range(n_points):\n",
    "    plt.arrow(points[ii,0], points[ii,1], v_points[ii,0], v_points[ii,1],\n",
    "        head_width=0.2, head_length=0.4, fc='k', ec='k')\n",
    "    \n",
    "for ii in range(n_vertices):\n",
    "    plt.arrow(vertices[ii,0], vertices[ii,1], v_vertices[ii,0], v_vertices[ii,1],\n",
    "              head_width=0.2, head_length=0.4, fc='r', ec='r', lw=2.0)\n",
    "\n",
    "    \n",
    "plt.axis('scaled')\n",
    "plt.xlim(-lbox, lbox)\n",
    "plt.ylim(-lbox, lbox)\n",
    "\n",
    "plt.show()"
   ]
  },
  {
   "cell_type": "code",
   "execution_count": null,
   "id": "49afd620-7cdd-4577-9eeb-c4a256b37ddb",
   "metadata": {},
   "outputs": [],
   "source": []
  }
 ],
 "metadata": {
  "kernelspec": {
   "display_name": "Python 3 (ipykernel)",
   "language": "python",
   "name": "python3"
  },
  "language_info": {
   "codemirror_mode": {
    "name": "ipython",
    "version": 3
   },
   "file_extension": ".py",
   "mimetype": "text/x-python",
   "name": "python",
   "nbconvert_exporter": "python",
   "pygments_lexer": "ipython3",
   "version": "3.9.13"
  }
 },
 "nbformat": 4,
 "nbformat_minor": 5
}
